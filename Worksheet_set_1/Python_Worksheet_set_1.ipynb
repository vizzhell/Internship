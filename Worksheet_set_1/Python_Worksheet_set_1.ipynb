{
 "cells": [
  {
   "cell_type": "markdown",
   "metadata": {},
   "source": [
    "# 11. Python program to find the factorial of a number"
   ]
  },
  {
   "cell_type": "code",
   "execution_count": null,
   "metadata": {},
   "outputs": [],
   "source": [
    "num=int(input(\"Enter the number: \"))\n",
    "factorial=1\n",
    "if num<0:\n",
    "    print(\"Factorial does not exist for negative numbers\")\n",
    "elif num==0:\n",
    "    print(\"The factorial of 0 is 1\")\n",
    "else:\n",
    "    for i in range(1,num+1):\n",
    "        factorial=factorial*i\n",
    "    i=i-1\n",
    "    print(\"The factorial of\",num,\"is\",factorial)"
   ]
  },
  {
   "cell_type": "code",
   "execution_count": null,
   "metadata": {},
   "outputs": [],
   "source": []
  },
  {
   "cell_type": "markdown",
   "metadata": {},
   "source": [
    "# 12. Python program to find whether a number is prime or composite"
   ]
  },
  {
   "cell_type": "code",
   "execution_count": null,
   "metadata": {},
   "outputs": [],
   "source": [
    "num = int(input(\"Enter any number : \"))\n",
    "if num > 1:\n",
    "    for i in range(2, num):\n",
    "        if (num % i) == 0:\n",
    "            print(num, \"is NOT a prime number\")\n",
    "            break\n",
    "    else:\n",
    "        print(num, \"is a PRIME number\")"
   ]
  },
  {
   "cell_type": "code",
   "execution_count": null,
   "metadata": {},
   "outputs": [],
   "source": []
  },
  {
   "cell_type": "markdown",
   "metadata": {},
   "source": [
    "# 13. Python program to check whether a given string is palindrome or not"
   ]
  },
  {
   "cell_type": "code",
   "execution_count": null,
   "metadata": {},
   "outputs": [],
   "source": [
    "try:\n",
    "    a = str(input(\"Enter any word : \"))\n",
    "    if any(d.isdigit() for d in a):\n",
    "        raise ValueError\n",
    "    else:\n",
    "        b = \"\"\n",
    "        for i in a:\n",
    "            b = i + b\n",
    "        if (a == b):\n",
    "            print(\"Yes, this is a palindrome\")\n",
    "        else:\n",
    "            print(\"No, this is not a palidrome\")\n",
    "except ValueError:\n",
    "    print(\"Sorry looks like you have not entered a valid string!\")"
   ]
  },
  {
   "cell_type": "code",
   "execution_count": null,
   "metadata": {},
   "outputs": [],
   "source": []
  },
  {
   "cell_type": "markdown",
   "metadata": {},
   "source": [
    "# 14. Python program to get the third side of right-angled triangle from two given sides"
   ]
  },
  {
   "cell_type": "code",
   "execution_count": null,
   "metadata": {},
   "outputs": [],
   "source": [
    "from math import sqrt\n",
    "\n",
    "try:\n",
    "    print('Calculate your right angled triangle sides using the Pythagorean theorem.')\n",
    "    print('Assume the sides are a (height), b (base) and c (hypotenuse which is the side opposite of your right angle).')\n",
    "    side_entered = input('Which side (a, b or c) do you wish to calculate? Enter the side here > ')\n",
    "    print('You have entered', side_entered, 'to be the side for calculation using the Pythagorean theorem.')\n",
    "    if side_entered == 'c':\n",
    "        side_a = int(input('Input the length of side a: '))\n",
    "        side_b = int(input('Input the length of side b: '))\n",
    "        if(side_a == 0 or side_b == 0):\n",
    "            print(\"The sides of a triangle cannot be zero\")\n",
    "        else:\n",
    "            side_c = sqrt(side_a * side_a + side_b * side_b)\n",
    "            print('The length of side c is:', side_c)\n",
    "    elif side_entered == 'a':\n",
    "        side_b = int(input('Input the length of side b: '))\n",
    "        side_c = int(input('Input the length of side c: '))\n",
    "        if(side_b == 0 or side_c == 0):\n",
    "            print(\"The sides of a triangle cannot be zero\")\n",
    "        elif (side_b == side_c or side_c < side_b):\n",
    "            print(\"Incorrect value for the hypotenuse provided\")\n",
    "        else:\n",
    "            side_a = sqrt(side_c * side_c - side_b * side_b)\n",
    "            print('The length of side a is:', side_a)\n",
    "    elif side_entered == 'b':\n",
    "        side_a = int(input('Input the length of side a: '))\n",
    "        side_c = int(input('Input the length of side c: '))\n",
    "        if(side_a == 0 or side_c == 0):\n",
    "            print(\"The sides of a triangle cannot be zero\")\n",
    "        elif (side_a == side_c or side_c < side_a):\n",
    "            print(\"Incorrect value for the hypotenuse provided\")\n",
    "        else:\n",
    "            side_b = sqrt(side_c * side_c - side_a * side_a)\n",
    "            print('The length of side b is:', side_b)\n",
    "    else:\n",
    "        print('Please select a valid side from lower case a, b or c to be calculated')\n",
    "except ValueError:\n",
    "    print(\"However the entered number for the remaining sides of a right angled triangle is not valid\")"
   ]
  },
  {
   "cell_type": "code",
   "execution_count": null,
   "metadata": {},
   "outputs": [],
   "source": []
  },
  {
   "cell_type": "markdown",
   "metadata": {},
   "source": [
    "# 15. Python program to print the frequency of each of the characters present in a given string"
   ]
  },
  {
   "cell_type": "code",
   "execution_count": null,
   "metadata": {},
   "outputs": [],
   "source": [
    "try:\n",
    "    data_string = input(\"Enter a word or senteence to check the frequency of each letter in it: \")\n",
    "    if any(d.isdigit() for d in data_string):\n",
    "        raise ValueError\n",
    "    else:\n",
    "        freq_check = {i : data_string.count(i) for i in set(data_string)}\n",
    "        print(\"The count of each and every letter in\", data_string, \"is displayed with the letter first and the number of occurences besides it: \")\n",
    "        print('\\n',freq_check)\n",
    "except ValueError:\n",
    "    print(\"Sorry looks like you have not entered a valid string!\")"
   ]
  },
  {
   "cell_type": "code",
   "execution_count": null,
   "metadata": {},
   "outputs": [],
   "source": []
  }
 ],
 "metadata": {
  "kernelspec": {
   "display_name": "Python 3",
   "language": "python",
   "name": "python3"
  },
  "language_info": {
   "codemirror_mode": {
    "name": "ipython",
    "version": 3
   },
   "file_extension": ".py",
   "mimetype": "text/x-python",
   "name": "python",
   "nbconvert_exporter": "python",
   "pygments_lexer": "ipython3",
   "version": "3.8.5"
  }
 },
 "nbformat": 4,
 "nbformat_minor": 4
}
